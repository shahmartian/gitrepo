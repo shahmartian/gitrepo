{
 "cells": [
  {
   "cell_type": "code",
   "execution_count": 1,
   "id": "7cc99aee",
   "metadata": {},
   "outputs": [
    {
     "name": "stdout",
     "output_type": "stream",
     "text": [
      "Hello, Mary\n",
      "Good Try! Better luck Next Time!!!!\n"
     ]
    }
   ],
   "source": [
    "name = 'Mary'\n",
    "password = 'lolol'\n",
    "if name == 'Mary':\n",
    "    print('Hello, Mary')\n",
    "    if password == 'lol':\n",
    "        print('Granted Access')\n",
    "    else:\n",
    "        print('Good Try! Better luck Next Time!!!!')"
   ]
  },
  {
   "cell_type": "code",
   "execution_count": 2,
   "id": "25b7e1e5",
   "metadata": {},
   "outputs": [
    {
     "name": "stdout",
     "output_type": "stream",
     "text": [
      "Whats your name?\n"
     ]
    }
   ],
   "source": [
    "print('Whats your name?')"
   ]
  },
  {
   "cell_type": "code",
   "execution_count": 20,
   "id": "8ac2cfcd",
   "metadata": {},
   "outputs": [
    {
     "name": "stdout",
     "output_type": "stream",
     "text": [
      "Bhavya\n"
     ]
    }
   ],
   "source": [
    "myName = input()"
   ]
  },
  {
   "cell_type": "code",
   "execution_count": 27,
   "id": "c69cc220",
   "metadata": {},
   "outputs": [
    {
     "name": "stdout",
     "output_type": "stream",
     "text": [
      "How old are you?\n",
      "1000\n"
     ]
    }
   ],
   "source": [
    "print ('How old are you?')\n",
    "myAge = int(input())"
   ]
  },
  {
   "cell_type": "code",
   "execution_count": 32,
   "id": "1188d063",
   "metadata": {},
   "outputs": [],
   "source": [
    "if myName == 'Alice':\n",
    "    print('Hi Alice!')\n",
    "elif myAge < int(1000):\n",
    "    print('How are you so young?')\n",
    "elif myAge > int(3000):\n",
    "    print('Thats an experienced Vampire!')\n",
    "elif myName == 'Carol':\n",
    "    print('Hi Carol, thats you again?')"
   ]
  },
  {
   "cell_type": "code",
   "execution_count": 33,
   "id": "97dd5bfc",
   "metadata": {},
   "outputs": [
    {
     "name": "stdout",
     "output_type": "stream",
     "text": [
      "Whats your name?\n",
      "b\n",
      "How old are you?\n",
      "1\n",
      "How are you so young?\n"
     ]
    }
   ],
   "source": [
    "print('Whats your name?')\n",
    "myName = input()\n",
    "print ('How old are you?')\n",
    "myAge = int(input())\n",
    "if myName == 'Alice':\n",
    "    print('Hi Alice!')\n",
    "elif myAge < int(1000):\n",
    "    print('How are you so young?')\n",
    "elif myAge > int(3000):\n",
    "    print('Thats an experienced Vampire!')\n",
    "elif myName == 'Carol':\n",
    "    print('Hi Carol, thats you again?')"
   ]
  },
  {
   "cell_type": "code",
   "execution_count": null,
   "id": "bea40909",
   "metadata": {},
   "outputs": [],
   "source": []
  }
 ],
 "metadata": {
  "kernelspec": {
   "display_name": "Python 3 (ipykernel)",
   "language": "python",
   "name": "python3"
  },
  "language_info": {
   "codemirror_mode": {
    "name": "ipython",
    "version": 3
   },
   "file_extension": ".py",
   "mimetype": "text/x-python",
   "name": "python",
   "nbconvert_exporter": "python",
   "pygments_lexer": "ipython3",
   "version": "3.9.13"
  }
 },
 "nbformat": 4,
 "nbformat_minor": 5
}
