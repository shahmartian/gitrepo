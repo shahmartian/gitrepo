{
 "cells": [
  {
   "cell_type": "code",
   "execution_count": 7,
   "id": "35c63154",
   "metadata": {},
   "outputs": [],
   "source": [
    "#This program says hello and asks my name"
   ]
  },
  {
   "cell_type": "code",
   "execution_count": 2,
   "id": "aca5c18c",
   "metadata": {},
   "outputs": [
    {
     "name": "stdout",
     "output_type": "stream",
     "text": [
      "Hello World!\n",
      "What is your name?\n"
     ]
    }
   ],
   "source": [
    "print ('Hello World!')\n",
    "print ('What is your name?')"
   ]
  },
  {
   "cell_type": "code",
   "execution_count": 3,
   "id": "e15d4a31",
   "metadata": {},
   "outputs": [
    {
     "name": "stdout",
     "output_type": "stream",
     "text": [
      "Bhavya\n"
     ]
    }
   ],
   "source": [
    "myName = input()"
   ]
  },
  {
   "cell_type": "code",
   "execution_count": 7,
   "id": "955820b6",
   "metadata": {},
   "outputs": [
    {
     "name": "stdout",
     "output_type": "stream",
     "text": [
      "Its nice to meet you, Bhavya\n"
     ]
    }
   ],
   "source": [
    "print ('Its nice to meet you, ' + myName)"
   ]
  },
  {
   "cell_type": "code",
   "execution_count": 11,
   "id": "7a0985ec",
   "metadata": {},
   "outputs": [
    {
     "name": "stdout",
     "output_type": "stream",
     "text": [
      "The length of your name is:\n",
      "6\n"
     ]
    }
   ],
   "source": [
    "print('The length of your name is:')\n",
    "print(len(myName))"
   ]
  },
  {
   "cell_type": "code",
   "execution_count": 13,
   "id": "b86cab78",
   "metadata": {},
   "outputs": [
    {
     "name": "stdout",
     "output_type": "stream",
     "text": [
      "What is your age?\n",
      "28\n",
      "You will be 29 in a year\n"
     ]
    }
   ],
   "source": [
    "print('What is your age?')\n",
    "myAge = input()\n",
    "print('You will be ' +str(int(myAge)+1) + ' in a year')"
   ]
  },
  {
   "cell_type": "code",
   "execution_count": null,
   "id": "f135675a",
   "metadata": {},
   "outputs": [],
   "source": []
  }
 ],
 "metadata": {
  "kernelspec": {
   "display_name": "Python 3 (ipykernel)",
   "language": "python",
   "name": "python3"
  },
  "language_info": {
   "codemirror_mode": {
    "name": "ipython",
    "version": 3
   },
   "file_extension": ".py",
   "mimetype": "text/x-python",
   "name": "python",
   "nbconvert_exporter": "python",
   "pygments_lexer": "ipython3",
   "version": "3.9.13"
  }
 },
 "nbformat": 4,
 "nbformat_minor": 5
}
